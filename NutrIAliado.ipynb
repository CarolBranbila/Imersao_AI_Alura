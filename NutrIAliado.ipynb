{
  "nbformat": 4,
  "nbformat_minor": 0,
  "metadata": {
    "colab": {
      "provenance": [],
      "authorship_tag": "ABX9TyP1xkHissic+ySsUnkRdTjf",
      "include_colab_link": true
    },
    "kernelspec": {
      "name": "python3",
      "display_name": "Python 3"
    },
    "language_info": {
      "name": "python"
    }
  },
  "cells": [
    {
      "cell_type": "markdown",
      "metadata": {
        "id": "view-in-github",
        "colab_type": "text"
      },
      "source": [
        "<a href=\"https://colab.research.google.com/github/CarolBranbila/Imersao_AI_Alura/blob/main/NutrIAliado.ipynb\" target=\"_parent\"><img src=\"https://colab.research.google.com/assets/colab-badge.svg\" alt=\"Open In Colab\"/></a>"
      ]
    },
    {
      "cell_type": "markdown",
      "source": [
        "#**NutrIAliado** 🥑\n",
        "\n",
        "\n",
        "###Instalação da SDK"
      ],
      "metadata": {
        "id": "nQfK_RHUVPj6"
      }
    },
    {
      "cell_type": "code",
      "execution_count": null,
      "metadata": {
        "id": "ACE59f1M38Ap"
      },
      "outputs": [],
      "source": [
        "pip install -q -U google-generativeai"
      ]
    },
    {
      "cell_type": "markdown",
      "source": [
        "### Importando dependencias e Key 🔑"
      ],
      "metadata": {
        "id": "tuJrievcVqJt"
      }
    },
    {
      "cell_type": "code",
      "source": [
        "\n",
        "import google.generativeai as genai\n",
        "from google.colab import userdata\n",
        "\n",
        "GOOGLE_API_KEY= userdata.get('GOOGLE_API_KEY')\n",
        "genai.configure(api_key=GOOGLE_API_KEY)"
      ],
      "metadata": {
        "id": "VlDn2Ew87tEx"
      },
      "execution_count": null,
      "outputs": []
    },
    {
      "cell_type": "markdown",
      "source": [
        "### Listando modelos generativos disponíveis"
      ],
      "metadata": {
        "id": "PnUFQzTWV-af"
      }
    },
    {
      "cell_type": "code",
      "source": [
        "for m in genai.list_models():\n",
        "  if 'generateContent' in m.supported_generation_methods:\n",
        "    print(m.name)"
      ],
      "metadata": {
        "colab": {
          "base_uri": "https://localhost:8080/",
          "height": 139
        },
        "id": "Fw7B3Q9f9AwH",
        "outputId": "c3761813-9373-458d-afd3-df3444375c70"
      },
      "execution_count": null,
      "outputs": [
        {
          "output_type": "stream",
          "name": "stdout",
          "text": [
            "models/gemini-1.0-pro\n",
            "models/gemini-1.0-pro-001\n",
            "models/gemini-1.0-pro-latest\n",
            "models/gemini-1.0-pro-vision-latest\n",
            "models/gemini-1.5-pro-latest\n",
            "models/gemini-pro\n",
            "models/gemini-pro-vision\n"
          ]
        }
      ]
    },
    {
      "cell_type": "markdown",
      "source": [
        "###Configurando o modelo"
      ],
      "metadata": {
        "id": "uETGVawbYW6e"
      }
    },
    {
      "cell_type": "code",
      "source": [
        "safety_settings = [\n",
        "  {\n",
        "    \"category\": \"HARM_CATEGORY_HARASSMENT\",\n",
        "    \"threshold\": \"BLOCK_MEDIUM_AND_ABOVE\"\n",
        "  },\n",
        "  {\n",
        "    \"category\": \"HARM_CATEGORY_HATE_SPEECH\",\n",
        "    \"threshold\": \"BLOCK_MEDIUM_AND_ABOVE\"\n",
        "  },\n",
        "  {\n",
        "    \"category\": \"HARM_CATEGORY_SEXUALLY_EXPLICIT\",\n",
        "    \"threshold\": \"BLOCK_MEDIUM_AND_ABOVE\"\n",
        "  },\n",
        "  {\n",
        "    \"category\": \"HARM_CATEGORY_DANGEROUS_CONTENT\",\n",
        "    \"threshold\": \"BLOCK_MEDIUM_AND_ABOVE\",\n",
        "}\n",
        "]\n",
        "\n",
        "generation_config = {\n",
        "    \"candidate_count\": 1,\n",
        "    \"temperature\": 0.5,\n",
        "}\n"
      ],
      "metadata": {
        "id": "dQbKZEZAD2_R"
      },
      "execution_count": null,
      "outputs": []
    },
    {
      "cell_type": "markdown",
      "source": [
        "###Inicializando o Modelo"
      ],
      "metadata": {
        "id": "HKIf0vUtYf26"
      }
    },
    {
      "cell_type": "code",
      "source": [
        "model = genai.GenerativeModel(model_name='gemini-1.0-pro',\n",
        "                              generation_config=generation_config,\n",
        "                              safety_settings=safety_settings)"
      ],
      "metadata": {
        "id": "riwPNVpbPT6P"
      },
      "execution_count": null,
      "outputs": []
    },
    {
      "cell_type": "code",
      "source": [
        "prompt = input(\"Escreva quais alimentos deseja consultar com suas respectivas quantidades:\\n\")\n",
        "\n",
        "prompt_verify = [\n",
        "    \"input:300g de arroz\\n200g de feijão\",\n",
        "    \"output:## Informações nutricionais para 300g de arroz e 200g de feijão (500g):\\n\\n**Total:**\\n\\n* **Calorias:** Aproximadamente 1680 kcal\\n* **Carboidratos:** 344g\\n* **Proteínas:** 62g\\n* **Gorduras:** 8g\\n* **Fibras:** 64g\\n\\n**Informações relevantes para:**\\n\\n* **Diabéticos:** Essa refeição contém alto teor de carboidratos (344g), o que pode impactar significativamente os níveis de glicose no sangue. É fundamental o acompanhamento com nutricionista para ajustar a quantidade de acordo com as necessidades individuais e considerar a ingestão com outros alimentos para balancear o índice glicêmico da refeição.\\n* **Celíacos:** Arroz e feijão são naturalmente livres de glúten, tornando essa refeição segura para celíacos. É importante verificar os rótulos dos produtos para certificar-se de que não houve contaminação cruzada durante o processamento.\\n* **Intolerantes à lactose:** Arroz e feijão são naturalmente livres de lactose, tornando essa refeição segura para intolerantes à lactose. É importante ter atenção a outros ingredientes que podem ser adicionados durante o preparo, como manteiga ou creme de leite. \\n\\n**Observações:**\\n\\n* Os valores nutricionais podem variar ligeiramente dependendo do tipo de arroz e feijão utilizados. \\n* As informações fornecidas são apenas estimativas e não substituem a consulta a um nutricionista ou médico.\\n* Para uma dieta balanceada, combine o arroz e feijão com outros alimentos ricos em nutrientes como legumes, verduras e carnes magras. \\n\\nLembre-se que cada indivíduo possui necessidades nutricionais específicas. Consulte um profissional de saúde para obter orientação individualizada. 😉\",\n",
        "    f\"input:{prompt}\"\n",
        "    \"output: \",\n",
        "]\n",
        "\n",
        "response = model.generate_content(prompt_verify)\n",
        "print(response.text)"
      ],
      "metadata": {
        "colab": {
          "base_uri": "https://localhost:8080/",
          "height": 436
        },
        "id": "VFylMbpURVjO",
        "outputId": "0117c6ce-713f-44f3-98f7-e0f364ab28bd"
      },
      "execution_count": null,
      "outputs": [
        {
          "output_type": "stream",
          "name": "stdout",
          "text": [
            "Escreva quais alimentos deseja consultar com suas respectivas quantidades:\n",
            "10g de açucar\n",
            "**Informações nutricionais para 10g de açúcar:**\n",
            "\n",
            "* **Calorias:** 40 kcal\n",
            "* **Carboidratos:** 10g\n",
            "* **Proteínas:** 0g\n",
            "* **Gorduras:** 0g\n",
            "* **Fibras:** 0g\n",
            "\n",
            "**Informações relevantes:**\n",
            "\n",
            "* **Diabéticos:** O consumo de açúcar pode impactar significativamente os níveis de glicose no sangue. Diabéticos devem limitar a ingestão de açúcar para evitar picos de glicose.\n",
            "* **Pessoas com sobrepeso ou obesidade:** O açúcar é uma fonte concentrada de calorias vazias, o que pode contribuir para o ganho de peso.\n",
            "* **Saúde bucal:** O consumo excessivo de açúcar pode aumentar o risco de cáries dentárias.\n",
            "\n",
            "**Observações:**\n",
            "\n",
            "* Os valores nutricionais podem variar ligeiramente dependendo do tipo de açúcar utilizado.\n",
            "* As informações fornecidas são apenas estimativas e não substituem a consulta a um nutricionista ou médico.\n",
            "* Para uma dieta balanceada, limite o consumo de açúcar e opte por alimentos ricos em nutrientes como frutas, vegetais e grãos integrais.\n",
            "\n",
            "Lembre-se que cada indivíduo possui necessidades nutricionais específicas. Consulte um profissional de saúde para obter orientação individualizada.\n"
          ]
        }
      ]
    },
    {
      "cell_type": "code",
      "source": [],
      "metadata": {
        "id": "NjeHBYfSbaB6"
      },
      "execution_count": null,
      "outputs": []
    }
  ]
}